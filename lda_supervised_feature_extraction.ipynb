{
  "nbformat": 4,
  "nbformat_minor": 0,
  "metadata": {
    "colab": {
      "provenance": [],
      "authorship_tag": "ABX9TyMt/V+497bnJs/+iQxNVOpH",
      "include_colab_link": true
    },
    "kernelspec": {
      "name": "python3",
      "display_name": "Python 3"
    },
    "language_info": {
      "name": "python"
    }
  },
  "cells": [
    {
      "cell_type": "markdown",
      "metadata": {
        "id": "view-in-github",
        "colab_type": "text"
      },
      "source": [
        "<a href=\"https://colab.research.google.com/github/AnuragAgarwal00/machine_learning_wine-dataset/blob/main/lda_supervised_feature_extraction.ipynb\" target=\"_parent\"><img src=\"https://colab.research.google.com/assets/colab-badge.svg\" alt=\"Open In Colab\"/></a>"
      ]
    },
    {
      "cell_type": "code",
      "execution_count": null,
      "metadata": {
        "id": "L3rGnuvOHnyU"
      },
      "outputs": [],
      "source": [
        "# 1. Standardize the d-dimensional dataset (d is the number of features).\n",
        "# 2. For each class, compute the d-dimensional mean vector.\n",
        "# 3. Construct the between-class scatter matrix, SB, and the within-class scatter matrix, SW.\n",
        "# 4. Compute the eigenvectors and corresponding eigenvalues of the matrix, 𝑺𝑺𝑊𝑊\n",
        "# −1𝑺𝑺𝐵𝐵.\n",
        "# 5. Sort the eigenvalues by decreasing order to rank the corresponding eigenvectors\n",
        "# Choose the k eigenvectors that correspond to the k largest eigenvalues to construct a d×k-dimensional transformation matrix, W; the eigenvectors are the columns of this matrix.\n",
        "# 7. Project the examples onto the new feature subspace using the transformation matrix, W"
      ]
    },
    {
      "cell_type": "code",
      "source": [
        "import numpy as np\n",
        "import pandas as pd\n",
        "df_wine = pd.read_csv(\n",
        "  'https://archive.ics.uci.edu/ml/'\n",
        "  'machine-learning-databases/wine/wine.data',\n",
        "  header=None\n",
        " )"
      ],
      "metadata": {
        "id": "kCrNa9iWJIO3"
      },
      "execution_count": null,
      "outputs": []
    },
    {
      "cell_type": "code",
      "source": [
        "\n",
        "from sklearn.model_selection import train_test_split\n",
        "X,y = df_wine.iloc[:, 1:].values, df_wine.iloc[:, 0].values\n",
        "X_train,X_test,y_train,y_test = train_test_split(X, y, test_size=0.3, stratify=y, random_state=0)"
      ],
      "metadata": {
        "id": "BsIi4zj5JSsY"
      },
      "execution_count": null,
      "outputs": []
    },
    {
      "cell_type": "code",
      "source": [
        "\n",
        "from sklearn.preprocessing import StandardScaler\n",
        "std = StandardScaler()\n",
        "X_train_std =std.fit_transform(X_train)\n",
        "X_test_std = std.transform(X_test)"
      ],
      "metadata": {
        "id": "LJo6b7qRJUFV"
      },
      "execution_count": null,
      "outputs": []
    },
    {
      "cell_type": "code",
      "source": [
        "np.set_printoptions(precision=4)\n",
        "mean_vecs = []\n",
        "for label in range(1,4):\n",
        "  mean_vecs.append(np.mean(X_train_std[y_train==label], axis=0))\n",
        "  print(f'MV {label}: {mean_vecs[label - 1]}\\n')"
      ],
      "metadata": {
        "colab": {
          "base_uri": "https://localhost:8080/"
        },
        "id": "b1x2Us8-JImd",
        "outputId": "495a06fd-59cf-454d-fd38-2ba7d2ec27db"
      },
      "execution_count": null,
      "outputs": [
        {
          "output_type": "stream",
          "name": "stdout",
          "text": [
            "MV 1: [ 0.9066 -0.3497  0.3201 -0.7189  0.5056  0.8807  0.9589 -0.5516  0.5416\n",
            "  0.2338  0.5897  0.6563  1.2075]\n",
            "\n",
            "MV 2: [-0.8749 -0.2848 -0.3735  0.3157 -0.3848 -0.0433  0.0635 -0.0946  0.0703\n",
            " -0.8286  0.3144  0.3608 -0.7253]\n",
            "\n",
            "MV 3: [ 0.1992  0.866   0.1682  0.4148 -0.0451 -1.0286 -1.2876  0.8287 -0.7795\n",
            "  0.9649 -1.209  -1.3622 -0.4013]\n",
            "\n"
          ]
        }
      ]
    },
    {
      "cell_type": "code",
      "source": [
        "d = 13 # number of features\n",
        "S_W = np.zeros((d, d))\n",
        "for label, mv in zip(range(1, 4), mean_vecs):\n",
        "  class_scatter = np.zeros((d, d))\n",
        "  for row in X_train_std[y_train == label]:\n",
        "    row, mv = row.reshape(d, 1), mv.reshape(d, 1)\n",
        "    class_scatter += (row - mv).dot((row - mv).T)\n",
        "    S_W += class_scatter\n",
        "print('Within-class scatter matrix: 'f'{S_W.shape[0]}x{S_W.shape[1]}')\n",
        "# Within-class scatter matrix: 13x13"
      ],
      "metadata": {
        "colab": {
          "base_uri": "https://localhost:8080/"
        },
        "id": "YqE93LRdJhzE",
        "outputId": "4a3827a6-e672-4d2e-d30d-e0bb293292b1"
      },
      "execution_count": null,
      "outputs": [
        {
          "output_type": "stream",
          "name": "stdout",
          "text": [
            "Within-class scatter matrix: 13x13\n"
          ]
        }
      ]
    },
    {
      "cell_type": "code",
      "source": [
        "print('Class label distribution:',np.bincount(y_train)[1:])\n"
      ],
      "metadata": {
        "colab": {
          "base_uri": "https://localhost:8080/"
        },
        "id": "wNgv9cweLJAp",
        "outputId": "462b7321-d3c1-4914-e0e9-83818ef26f6e"
      },
      "execution_count": null,
      "outputs": [
        {
          "output_type": "stream",
          "name": "stdout",
          "text": [
            "Class label distribution: [41 50 33]\n"
          ]
        },
        {
          "output_type": "execute_result",
          "data": {
            "text/plain": [
              "array([ 0, 41, 50, 33])"
            ]
          },
          "metadata": {},
          "execution_count": 25
        }
      ]
    },
    {
      "cell_type": "code",
      "source": [
        "d = 13 # number of features\n",
        "S_W = np.zeros((d, d))\n",
        "for label,mv in zip(range(1, 4), mean_vecs):\n",
        "  class_scatter = np.cov(X_train_std[y_train==label].T)\n",
        "  S_W += class_scatter\n",
        "print('Scaled within-class scatter matrix:'\n",
        " f'{S_W.shape[0]}x{S_W.shape[1]}')"
      ],
      "metadata": {
        "colab": {
          "base_uri": "https://localhost:8080/"
        },
        "id": "lcTc6Q2LPTHw",
        "outputId": "a0e6ccc3-5c43-44ee-823f-5b4beb4a3c40"
      },
      "execution_count": null,
      "outputs": [
        {
          "output_type": "stream",
          "name": "stdout",
          "text": [
            "Scaled within-class scatter matrix:13x13\n"
          ]
        }
      ]
    },
    {
      "cell_type": "code",
      "source": [
        "mean_overall = np.mean(X_train_std, axis=0)\n",
        "mean_overall = mean_overall.reshape(d, 1)\n",
        "d = 13 # number of features\n",
        "S_B = np.zeros((d, d))\n",
        "for i, mean_vec in enumerate(mean_vecs):\n",
        "  n = X_train_std[y_train == i + 1, :].shape[0]\n",
        "  mean_vec = mean_vec.reshape(d, 1) # make column vector\n",
        "  S_B += n * (mean_vec - mean_overall).dot(\n",
        "  (mean_vec - mean_overall).T)\n",
        "print('Between-class scatter matrix: '\n",
        "  f'{S_B.shape[0]}x{S_B.shape[1]}')"
      ],
      "metadata": {
        "colab": {
          "base_uri": "https://localhost:8080/"
        },
        "id": "vxb8QXXTP7Cu",
        "outputId": "6b01fded-d8af-4ab3-eb5e-49b85bd38582"
      },
      "execution_count": null,
      "outputs": [
        {
          "output_type": "stream",
          "name": "stdout",
          "text": [
            "Between-class scatter matrix: 13x13\n"
          ]
        }
      ]
    },
    {
      "cell_type": "code",
      "source": [
        "eigen_vals, eigen_vecs =\\\n",
        "  np.linalg.eig(np.linalg.inv(S_W).dot(S_B))"
      ],
      "metadata": {
        "id": "wcOq4IzdQO4d"
      },
      "execution_count": null,
      "outputs": []
    },
    {
      "cell_type": "code",
      "source": [
        "eigen_pairs = [(np.abs(eigen_vals[i]), eigen_vecs[:,i])\n",
        "  for i in range(len(eigen_vals))]"
      ],
      "metadata": {
        "id": "JE-u8GdjQS8a"
      },
      "execution_count": null,
      "outputs": []
    },
    {
      "cell_type": "code",
      "source": [
        "eigen_pairs = sorted(eigen_pairs,\n",
        "  key=lambda k: k[0], reverse=True)\n",
        "print('Eigenvalues in descending order:\\n')\n",
        "for eigen_val in eigen_pairs:\n",
        "  print(eigen_val[0])"
      ],
      "metadata": {
        "colab": {
          "base_uri": "https://localhost:8080/"
        },
        "id": "KAyohqetQbfE",
        "outputId": "af88666b-c435-47fb-dc58-b2807aebafd9"
      },
      "execution_count": null,
      "outputs": [
        {
          "output_type": "stream",
          "name": "stdout",
          "text": [
            "Eigenvalues in descending order:\n",
            "\n",
            "349.61780890599397\n",
            "172.7615221897938\n",
            "3.277875948160424e-14\n",
            "2.842170943040401e-14\n",
            "2.6347620763320822e-14\n",
            "2.6347620763320822e-14\n",
            "1.7169492680170306e-14\n",
            "1.7169492680170306e-14\n",
            "1.674335053365992e-14\n",
            "1.2740060380615543e-14\n",
            "7.458378098449665e-15\n",
            "4.737048557054326e-15\n",
            "3.688843187314971e-15\n"
          ]
        }
      ]
    },
    {
      "cell_type": "code",
      "source": [
        "import matplotlib.pyplot as plt\n",
        "\n",
        "tot = sum(eigen_vals.real)\n",
        "discr = [(i / tot) for i in sorted(eigen_vals.real,\n",
        "  reverse=True)]\n",
        "cum_discr = np.cumsum(discr)\n",
        "plt.bar(range(1, 14), discr, align='center',\n",
        "  label='Individual discriminability')\n",
        "plt.step(range(1, 14), cum_discr, where='mid',\n",
        "  label='Cumulative discriminability')\n",
        "plt.ylabel('\"Discriminability\" ratio')\n",
        "plt.xlabel('Linear Discriminants')\n",
        "plt.ylim([-0.1, 1.1])\n",
        "plt.legend(loc='best')\n",
        "plt.tight_layout()\n",
        "plt.show()"
      ],
      "metadata": {
        "colab": {
          "base_uri": "https://localhost:8080/",
          "height": 487
        },
        "id": "BUK7JQzUQlyq",
        "outputId": "5967a8c2-2553-4dbc-c581-14086f9fb4a5"
      },
      "execution_count": null,
      "outputs": [
        {
          "output_type": "display_data",
          "data": {
            "text/plain": [
              "<Figure size 640x480 with 1 Axes>"
            ],
            "image/png": "[encoded data removed]"
          },
          "metadata": {}
        }
      ]
    },
    {
      "cell_type": "code",
      "source": [
        "w = np.hstack((eigen_pairs[0][1][:, np.newaxis].real,\n",
        "  eigen_pairs[1][1][:, np.newaxis].real))\n",
        "print('Matrix W:\\n', w)"
      ],
      "metadata": {
        "colab": {
          "base_uri": "https://localhost:8080/"
        },
        "id": "EinCM6_hTaFY",
        "outputId": "f4299205-5222-4ed9-a237-76a11b758474"
      },
      "execution_count": null,
      "outputs": [
        {
          "output_type": "stream",
          "name": "stdout",
          "text": [
            "Matrix W:\n",
            " [[-0.1481 -0.4092]\n",
            " [ 0.0908 -0.1577]\n",
            " [-0.0168 -0.3537]\n",
            " [ 0.1484  0.3223]\n",
            " [-0.0163 -0.0817]\n",
            " [ 0.1913  0.0842]\n",
            " [-0.7338  0.2823]\n",
            " [-0.075  -0.0102]\n",
            " [ 0.0018  0.0907]\n",
            " [ 0.294  -0.2152]\n",
            " [-0.0328  0.2747]\n",
            " [-0.3547 -0.0124]\n",
            " [-0.3915 -0.5958]]\n"
          ]
        }
      ]
    },
    {
      "cell_type": "code",
      "source": [
        "X_train_lda = X_train_std.dot(w)\n",
        "colors = ['r', 'b', 'g']\n",
        "markers = ['o', 's', '^']\n",
        "for l, c, m in zip(np.unique(y_train), colors, markers):\n",
        "  plt.scatter(X_train_lda[y_train==l, 0],\n",
        "  X_train_lda[y_train==l, 1] * (-1),\n",
        "  c=c, label= f'Class {l}', marker=m)\n",
        "plt.xlabel('LD 1')\n",
        "plt.ylabel('LD 2')\n",
        "plt.legend(loc='lower right')\n",
        "plt.tight_layout()\n",
        "plt.show()"
      ],
      "metadata": {
        "colab": {
          "base_uri": "https://localhost:8080/",
          "height": 487
        },
        "id": "MGa-uOwXTp23",
        "outputId": "40b39694-081e-460a-da8a-7e0c668b49ac"
      },
      "execution_count": null,
      "outputs": [
        {
          "output_type": "display_data",
          "data": {
            "text/plain": [
              "<Figure size 640x480 with 1 Axes>"
            ],
            "image/png": "[encoded data removed]"
          },
          "metadata": {}
        }
      ]
    },
    {
      "cell_type": "code",
      "source": [
        "from sklearn.discriminant_analysis import LinearDiscriminantAnalysis as LDA\n",
        "lda = LDA(n_components=2)\n",
        "X_train_lda = lda.fit_transform(X_train_std, y_train)"
      ],
      "metadata": {
        "id": "kEvEJSpwT7Rr"
      },
      "execution_count": null,
      "outputs": []
    },
    {
      "cell_type": "code",
      "source": [
        "\n",
        "from matplotlib.colors import ListedColormap\n",
        "\n",
        "\n",
        "def plot_decision_regions(X, y, classifier, test_idx=None, resolution=0.02):\n",
        "  # setup marker generator and color map\n",
        "  import numpy as np\n",
        "  markers = ('o', 's', '^', 'v', '<')\n",
        "  colors = ('red', 'blue', 'lightgreen', 'gray', 'cyan')\n",
        "  cmap = ListedColormap(colors[:len(np.unique(y))])\n",
        "  # plot the decision surface\n",
        "  x1_min, x1_max = X[:, 0].min() - 1, X[:, 0].max() + 1\n",
        "  x2_min, x2_max = X[:, 1].min() - 1, X[:, 1].max() + 1\n",
        "  xx1, xx2 = np.meshgrid(np.arange(x1_min, x1_max, resolution),\n",
        "  np.arange(x2_min, x2_max, resolution))\n",
        "  lab = classifier.predict(np.array([xx1.ravel(), xx2.ravel()]).T)\n",
        "  lab = lab.reshape(xx1.shape)\n",
        "  plt.contourf(xx1, xx2, lab, alpha=0.3, cmap=cmap)\n",
        "  plt.xlim(xx1.min(), xx1.max())\n",
        "  plt.ylim(xx2.min(), xx2.max())\n",
        "  #  plot class examples\n",
        "  for idx, cl in enumerate(np.unique(y)):\n",
        "    plt.scatter(x=X[y == cl, 0],\n",
        "    y=X[y == cl, 1],\n",
        "    alpha=0.8,\n",
        "    c=colors[idx],\n",
        "    marker=markers[idx],\n",
        "    label=f'Class {cl}',\n",
        "    edgecolor='black')"
      ],
      "metadata": {
        "id": "UhlGpE0gUKwb"
      },
      "execution_count": null,
      "outputs": []
    },
    {
      "cell_type": "code",
      "source": [
        "from sklearn.linear_model import LogisticRegression\n",
        "lr = LogisticRegression(multi_class='ovr', random_state=1,\n",
        "  solver='lbfgs')\n",
        "lr = lr.fit(X_train_lda, y_train)\n",
        "plot_decision_regions(X_train_lda, y_train, classifier=lr)\n",
        "plt.xlabel('LD 1')\n",
        "plt.ylabel('LD 2')\n",
        "plt.legend(loc='lower left')\n",
        "plt.tight_layout()\n",
        "plt.show()"
      ],
      "metadata": {
        "colab": {
          "base_uri": "https://localhost:8080/",
          "height": 487
        },
        "id": "NpLpuzo9UBuv",
        "outputId": "8c436ca6-6291-41c0-f589-855a5e4ad21d"
      },
      "execution_count": null,
      "outputs": [
        {
          "output_type": "display_data",
          "data": {
            "text/plain": [
              "<Figure size 640x480 with 1 Axes>"
            ],
            "image/png": "[encoded data removed]"
          },
          "metadata": {}
        }
      ]
    }
  ]
}